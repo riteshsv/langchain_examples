{
 "cells": [
  {
   "cell_type": "markdown",
   "id": "a462fb89-d722-471d-b1b4-f39b382b1b68",
   "metadata": {},
   "source": [
    "# Vector stores and retrievers\n",
    "- Store data in the form of vectors in vector database and retrieve the same\n",
    "- Integrate with LLM workflows\n",
    "- Important for applications that use data to be used by LLM for the purpose of inference. RAG applications benefit from such databases"
   ]
  },
  {
   "cell_type": "code",
   "execution_count": null,
   "id": "adf86de1-a6ee-4d29-a113-21887df65940",
   "metadata": {},
   "outputs": [],
   "source": [
    "import getpass\n",
    "import os\n",
    "\n",
    "os.environ[\"LANGCHAIN_TRACING_V2\"] = \"true\"\n",
    "os.environ[\"LANGCHAIN_API_KEY\"] = getpass.getpass()"
   ]
  },
  {
   "cell_type": "code",
   "execution_count": 2,
   "id": "341f82df-fd6a-47b0-b95c-56902f6265a2",
   "metadata": {},
   "outputs": [],
   "source": [
    "# pip install langchain\n",
    "# pip install -qU langchain-mistralai\n"
   ]
  },
  {
   "cell_type": "code",
   "execution_count": 3,
   "id": "9643ba4a-61eb-4ee0-a0b4-3d03702e50a1",
   "metadata": {},
   "outputs": [
    {
     "name": "stdin",
     "output_type": "stream",
     "text": [
      " ········\n"
     ]
    }
   ],
   "source": [
    "os.environ[\"MISTRAL_API_KEY\"] = getpass.getpass()\n",
    "\n",
    "from langchain_mistralai import ChatMistralAI\n",
    "\n",
    "model = ChatMistralAI(model=\"mistral-large-latest\")"
   ]
  },
  {
   "cell_type": "code",
   "execution_count": 4,
   "id": "45d905c9-1104-4465-9a2a-96f73ecec555",
   "metadata": {},
   "outputs": [],
   "source": [
    "# !pip install langchain-chroma"
   ]
  },
  {
   "cell_type": "code",
   "execution_count": 9,
   "id": "57b08eb5-0a0a-4a80-a521-1926f3c05349",
   "metadata": {},
   "outputs": [
    {
     "name": "stdin",
     "output_type": "stream",
     "text": [
      " ········\n"
     ]
    }
   ],
   "source": [
    "os.environ['HF_TOKEN'] = getpass.getpass()"
   ]
  },
  {
   "cell_type": "markdown",
   "id": "6392786f-c028-4f83-becd-967dc2af5a66",
   "metadata": {},
   "source": [
    "## Documents\n",
    "- langchain implements a Document class\n",
    "- Document class holds the text and its metadata\n",
    "- attributes\n",
    "  - page_content: text of the document\n",
    "  - metadata: dict:  data about source of document, its relation with other documents etc.."
   ]
  },
  {
   "cell_type": "code",
   "execution_count": 5,
   "id": "9a4eb1f7-8836-4bfb-92ce-d607652297c0",
   "metadata": {},
   "outputs": [],
   "source": [
    "from langchain_core.documents import Document\n",
    "\n",
    "documents = [\n",
    "    Document(\n",
    "        page_content=\"Dogs are great companions, known for their loyalty and friendliness.\",\n",
    "        metadata={\"source\": \"mammal-pets-doc\"},\n",
    "    ),\n",
    "    Document(\n",
    "        page_content=\"Cats are independent pets that often enjoy their own space.\",\n",
    "        metadata={\"source\": \"mammal-pets-doc\"},\n",
    "    ),\n",
    "    Document(\n",
    "        page_content=\"Goldfish are popular pets for beginners, requiring relatively simple care.\",\n",
    "        metadata={\"source\": \"fish-pets-doc\"},\n",
    "    ),\n",
    "    Document(\n",
    "        page_content=\"Parrots are intelligent birds capable of mimicking human speech.\",\n",
    "        metadata={\"source\": \"bird-pets-doc\"},\n",
    "    ),\n",
    "    Document(\n",
    "        page_content=\"Rabbits are social animals that need plenty of space to hop around.\",\n",
    "        metadata={\"source\": \"mammal-pets-doc\"},\n",
    "    ),\n",
    "]"
   ]
  },
  {
   "cell_type": "markdown",
   "id": "87827e44-ea59-4963-a70b-1d69009ae642",
   "metadata": {},
   "source": [
    "## Vector Store\n",
    "### Vector Search\n",
    "  - A way of searching text with the help of vector similarity from a store where text is embeded in vectors and stored\n",
    "### Vector Store\n",
    "  - A database that stores vectors and provides database operations\n",
    "  - VectorStore class in langchain provides methods to add, edit, search, upsert Documents in vector store\n",
    "  - Init with embbeding models\n",
    "  - Integrations with multiple vector store providers like Postgres or others, hosted on cloud or on premise or in-memory\n",
    "  - Current example we will use Chroma with its in-memory implementation. Chroma also has capability to persist data."
   ]
  },
  {
   "cell_type": "code",
   "execution_count": 10,
   "id": "53154923-1ebe-4be6-bd7f-495973fdf51c",
   "metadata": {},
   "outputs": [],
   "source": [
    "from langchain_chroma import Chroma\n",
    "from langchain_mistralai import MistralAIEmbeddings\n",
    "\n",
    "vectorstore = Chroma.from_documents(\n",
    "    documents,\n",
    "    embedding=MistralAIEmbeddings(),\n",
    ")"
   ]
  },
  {
   "cell_type": "markdown",
   "id": "69b61b79-2041-4261-b264-8bf7f7597305",
   "metadata": {},
   "source": [
    "Calling .from_documents here will add the documents to the vector store. VectorStore implements methods for adding documents that can also be called after the object is instantiated. Most implementations will allow you to connect to an existing vector store-- e.g., by providing a client, index name, or other information. See the documentation for a specific integration for more detail.\n",
    "\n",
    "Once we've instantiated a VectorStore that contains documents, we can query it. VectorStore includes methods for querying:\n",
    "\n",
    "- Synchronously and asynchronously;\n",
    "- By string query and by vector;\n",
    "- With and without returning similarity scores;\n",
    "- By similarity and maximum marginal relevance (to balance similarity with query to diversity in retrieved results).\n",
    "\n",
    "The methods will generally include a list of Document objects in their outputs."
   ]
  },
  {
   "cell_type": "markdown",
   "id": "48cbafdf-a287-4322-b2d0-5781857b2210",
   "metadata": {},
   "source": [
    "### Examples\n",
    "Return documents based on similarity to a string query:"
   ]
  },
  {
   "cell_type": "code",
   "execution_count": 11,
   "id": "8ca59321-3602-4a0b-82f1-9747ae5df3e2",
   "metadata": {},
   "outputs": [
    {
     "data": {
      "text/plain": [
       "[Document(page_content='Cats are independent pets that often enjoy their own space.', metadata={'source': 'mammal-pets-doc'}),\n",
       " Document(page_content='Cats are independent pets that often enjoy their own space.', metadata={'source': 'mammal-pets-doc'}),\n",
       " Document(page_content='Cats are independent pets that often enjoy their own space.', metadata={'source': 'mammal-pets-doc'}),\n",
       " Document(page_content='Dogs are great companions, known for their loyalty and friendliness.', metadata={'source': 'mammal-pets-doc'})]"
      ]
     },
     "execution_count": 11,
     "metadata": {},
     "output_type": "execute_result"
    }
   ],
   "source": [
    "vectorstore.similarity_search(\"cat\")"
   ]
  },
  {
   "cell_type": "code",
   "execution_count": 12,
   "id": "bb6885eb-6b0d-4517-acba-f18a4038d984",
   "metadata": {},
   "outputs": [
    {
     "data": {
      "text/plain": [
       "[Document(page_content='Cats are independent pets that often enjoy their own space.', metadata={'source': 'mammal-pets-doc'}),\n",
       " Document(page_content='Cats are independent pets that often enjoy their own space.', metadata={'source': 'mammal-pets-doc'}),\n",
       " Document(page_content='Cats are independent pets that often enjoy their own space.', metadata={'source': 'mammal-pets-doc'}),\n",
       " Document(page_content='Dogs are great companions, known for their loyalty and friendliness.', metadata={'source': 'mammal-pets-doc'})]"
      ]
     },
     "execution_count": 12,
     "metadata": {},
     "output_type": "execute_result"
    }
   ],
   "source": [
    "# Async\n",
    "await vectorstore.asimilarity_search(\"cat\")"
   ]
  },
  {
   "cell_type": "code",
   "execution_count": 13,
   "id": "c7b7e377-edd2-4fd3-ade1-27f39f9b5608",
   "metadata": {},
   "outputs": [
    {
     "data": {
      "text/plain": [
       "[(Document(page_content='Cats are independent pets that often enjoy their own space.', metadata={'source': 'mammal-pets-doc'}),\n",
       "  0.4571284055709839),\n",
       " (Document(page_content='Cats are independent pets that often enjoy their own space.', metadata={'source': 'mammal-pets-doc'}),\n",
       "  0.4571284055709839),\n",
       " (Document(page_content='Cats are independent pets that often enjoy their own space.', metadata={'source': 'mammal-pets-doc'}),\n",
       "  0.4571284055709839),\n",
       " (Document(page_content='Dogs are great companions, known for their loyalty and friendliness.', metadata={'source': 'mammal-pets-doc'}),\n",
       "  0.7032201290130615)]"
      ]
     },
     "execution_count": 13,
     "metadata": {},
     "output_type": "execute_result"
    }
   ],
   "source": [
    "# Return with scores\n",
    "vectorstore.similarity_search_with_score(\"cat\")"
   ]
  },
  {
   "cell_type": "code",
   "execution_count": 15,
   "id": "503dc098-9f58-4e3d-8570-4c6f09713ea5",
   "metadata": {},
   "outputs": [
    {
     "data": {
      "text/plain": [
       "[Document(page_content='Cats are independent pets that often enjoy their own space.', metadata={'source': 'mammal-pets-doc'}),\n",
       " Document(page_content='Cats are independent pets that often enjoy their own space.', metadata={'source': 'mammal-pets-doc'}),\n",
       " Document(page_content='Cats are independent pets that often enjoy their own space.', metadata={'source': 'mammal-pets-doc'}),\n",
       " Document(page_content='Dogs are great companions, known for their loyalty and friendliness.', metadata={'source': 'mammal-pets-doc'})]"
      ]
     },
     "execution_count": 15,
     "metadata": {},
     "output_type": "execute_result"
    }
   ],
   "source": [
    "# Return documents based on similarity to a embedded query\n",
    "embeddings = MistralAIEmbeddings().embed_query(\"cat\")\n",
    "vectorstore.similarity_search_by_vector(embeddings)"
   ]
  },
  {
   "cell_type": "markdown",
   "id": "dfcd7254-d350-40b2-a951-518e40cf9902",
   "metadata": {},
   "source": [
    "## Retrievers\n",
    "- VectorStore is not Runnable\n",
    "- Cannot be used in chain\n",
    "- LangChain Retrievers are Runnables, so they implement a standard set of methods (e.g., synchronous and asynchronous invoke and batch operations) and are designed to be incorporated in LCEL chains.\n",
    "\n",
    "We can create a simple version with out subclassing Retriever"
   ]
  },
  {
   "cell_type": "code",
   "execution_count": 16,
   "id": "a7c27c30-7f7e-48cf-8e68-ed6f3046e7d2",
   "metadata": {},
   "outputs": [
    {
     "data": {
      "text/plain": [
       "[[Document(page_content='Cats are independent pets that often enjoy their own space.', metadata={'source': 'mammal-pets-doc'})],\n",
       " [Document(page_content='Goldfish are popular pets for beginners, requiring relatively simple care.', metadata={'source': 'fish-pets-doc'})]]"
      ]
     },
     "execution_count": 16,
     "metadata": {},
     "output_type": "execute_result"
    }
   ],
   "source": [
    "from typing import List\n",
    "\n",
    "from langchain_core.documents import Document\n",
    "from langchain_core.runnables import RunnableLambda\n",
    "\n",
    "retriever = RunnableLambda(vectorstore.similarity_search).bind(k=1)  # select top result\n",
    "\n",
    "retriever.batch([\"cat\", \"shark\"])"
   ]
  },
  {
   "cell_type": "markdown",
   "id": "754e17a5-1785-4209-bfc8-cb23fbbd7f16",
   "metadata": {},
   "source": [
    "Vectorstores implement an as_retriever method that will generate a Retriever, specifically a VectorStoreRetriever. These retrievers include specific search_type and search_kwargs attributes that identify what methods of the underlying vector store to call, and how to parameterize them. For instance, we can replicate the above with the following:"
   ]
  },
  {
   "cell_type": "code",
   "execution_count": 18,
   "id": "d5aac064-fcf7-4bef-a74b-17a0f33c7d05",
   "metadata": {},
   "outputs": [
    {
     "data": {
      "text/plain": [
       "[[Document(page_content='Cats are independent pets that often enjoy their own space.', metadata={'source': 'mammal-pets-doc'})],\n",
       " [Document(page_content='Goldfish are popular pets for beginners, requiring relatively simple care.', metadata={'source': 'fish-pets-doc'})]]"
      ]
     },
     "execution_count": 18,
     "metadata": {},
     "output_type": "execute_result"
    }
   ],
   "source": [
    "retriever = vectorstore.as_retriever(\n",
    "    search_type=\"similarity\",\n",
    "    search_kwargs={\"k\": 1},\n",
    ")\n",
    "\n",
    "retriever.batch([\"cat\", \"shark\"])"
   ]
  },
  {
   "cell_type": "markdown",
   "id": "ed34eb0c-0bd7-460b-b435-bcb3edd6182a",
   "metadata": {},
   "source": [
    "VectorStoreRetriever supports search types of \"similarity\" (default), \"mmr\" (maximum marginal relevance, described above), and \"similarity_score_threshold\". We can use the latter to threshold documents output by the retriever by similarity score.\n",
    "\n",
    "Retrievers can easily be incorporated into more complex applications, such as retrieval-augmented generation (RAG) applications that combine a given question with retrieved context into a prompt for a LLM. Below we show a minimal example."
   ]
  },
  {
   "cell_type": "code",
   "execution_count": 19,
   "id": "90415ab0-3978-4a4b-a5e9-f66c47063355",
   "metadata": {},
   "outputs": [],
   "source": [
    "from langchain_core.prompts import ChatPromptTemplate\n",
    "from langchain_core.runnables import RunnablePassthrough\n",
    "\n",
    "message = \"\"\"\n",
    "Answer this question using the provided context only.\n",
    "\n",
    "{question}\n",
    "\n",
    "Context:\n",
    "{context}\n",
    "\"\"\"\n",
    "\n",
    "prompt = ChatPromptTemplate.from_messages([(\"human\", message)])\n",
    "\n",
    "rag_chain = {\"context\": retriever, \"question\": RunnablePassthrough()} | prompt | model"
   ]
  },
  {
   "cell_type": "code",
   "execution_count": 22,
   "id": "53248f17-3fe8-4873-af67-ff107f1be56b",
   "metadata": {},
   "outputs": [
    {
     "name": "stdout",
     "output_type": "stream",
     "text": [
      "Cats are independent pets that often enjoy their own space. This information is sourced from a document on mammal pets.\n"
     ]
    }
   ],
   "source": [
    "response = rag_chain.invoke(\"tell me about cats\")\n",
    "print(response.content)"
   ]
  },
  {
   "cell_type": "markdown",
   "id": "754c50fe-1f11-45de-970e-e93618a9c425",
   "metadata": {},
   "source": [
    "Retrieval strategies can be rich and complex. For example:\n",
    "\n",
    "We can infer hard rules and filters from a query (e.g., \"using documents published after 2020\");\n",
    "We can return documents that are linked to the retrieved context in some way (e.g., via some document taxonomy);\n",
    "We can generate multiple embeddings for each unit of context;\n",
    "We can ensemble results from multiple retrievers;\n",
    "We can assign weights to documents, e.g., to weigh recent documents higher.\n",
    "The retrievers section of the how-to guides covers these and other built-in retrieval strategies.\n",
    "\n",
    "It is also straightforward to extend the BaseRetriever class in order to implement custom retrievers. See our how-to guide here."
   ]
  },
  {
   "cell_type": "markdown",
   "id": "6cc655a5-79ce-4f2a-b4fe-0ef59f06a502",
   "metadata": {},
   "source": [
    "# Process Flow\n",
    "```mermaid\n",
    "flowchart LR\n",
    "A[Document from text] --> B(List of Documents)\n",
    "B-->C(VectorStore from Documents)\n",
    "C-->D(Retrievers)\n",
    "D-->E(Chain)\n",
    "```"
   ]
  },
  {
   "cell_type": "code",
   "execution_count": null,
   "id": "97995cec-e624-4c51-a921-7620108bf390",
   "metadata": {},
   "outputs": [],
   "source": []
  }
 ],
 "metadata": {
  "kernelspec": {
   "display_name": "langchain",
   "language": "python",
   "name": "langchain"
  },
  "language_info": {
   "codemirror_mode": {
    "name": "ipython",
    "version": 3
   },
   "file_extension": ".py",
   "mimetype": "text/x-python",
   "name": "python",
   "nbconvert_exporter": "python",
   "pygments_lexer": "ipython3",
   "version": "3.10.12"
  }
 },
 "nbformat": 4,
 "nbformat_minor": 5
}
