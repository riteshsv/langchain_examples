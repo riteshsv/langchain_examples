{
 "cells": [
  {
   "cell_type": "markdown",
   "id": "a462fb89-d722-471d-b1b4-f39b382b1b68",
   "metadata": {},
   "source": [
    "# Agent\n",
    "- What is an Agent?\n",
    "  - Agents execute actions based on LLM reasoning\n",
    "  - They pass the output back to LLM to determine if next action is required\n",
    "  - Or if its OK to finish\n",
    "- Goal\n",
    "  - Build an Agent that can interact with search engine\n",
    "    - You can ask question to agent\n",
    "    - Agent will call the search tool\n",
    "    - You can have conversation with agent"
   ]
  },
  {
   "cell_type": "code",
   "execution_count": 1,
   "id": "adf86de1-a6ee-4d29-a113-21887df65940",
   "metadata": {
    "metadata": {}
   },
   "outputs": [],
   "source": [
    "import getpass\n",
    "import os\n",
    "\n",
    "os.environ[\"LANGCHAIN_TRACING_V2\"] = \"true\"\n",
    "os.environ[\"LANGCHAIN_API_KEY\"] = getpass.getpass()"
   ]
  },
  {
   "cell_type": "code",
   "execution_count": 2,
   "id": "341f82df-fd6a-47b0-b95c-56902f6265a2",
   "metadata": {},
   "outputs": [],
   "source": [
    "# pip install langchain\n",
    "# pip install -qU langchain-mistralai\n"
   ]
  },
  {
   "cell_type": "markdown",
   "id": "634361af",
   "metadata": {},
   "source": [
    "# Search Engine\n",
    "The search engine that offers good support for LLM is  [Tavily](https://tavily.com/).  \n",
    "Get a TAVILY_API_KEY which will be needed for this project"
   ]
  },
  {
   "cell_type": "code",
   "execution_count": null,
   "id": "c63f3cce",
   "metadata": {
    "metadata": {}
   },
   "outputs": [],
   "source": [
    "# !pip install tavily-python"
   ]
  },
  {
   "cell_type": "code",
   "execution_count": 2,
   "id": "9654e72a",
   "metadata": {
    "metadata": {}
   },
   "outputs": [],
   "source": [
    "os.environ[\"TAVILY_API_KEY\"] = getpass.getpass()\n"
   ]
  },
  {
   "cell_type": "code",
   "execution_count": 3,
   "id": "9643ba4a-61eb-4ee0-a0b4-3d03702e50a1",
   "metadata": {
    "metadata": {}
   },
   "outputs": [],
   "source": [
    "os.environ[\"MISTRAL_API_KEY\"] = getpass.getpass()\n",
    "\n"
   ]
  },
  {
   "cell_type": "code",
   "execution_count": 4,
   "id": "45d905c9-1104-4465-9a2a-96f73ecec555",
   "metadata": {},
   "outputs": [],
   "source": [
    "# !pip install langchain-chroma"
   ]
  },
  {
   "cell_type": "code",
   "execution_count": 9,
   "id": "57b08eb5-0a0a-4a80-a521-1926f3c05349",
   "metadata": {},
   "outputs": [
    {
     "name": "stdout",
     "output_type": "stream",
     "text": [
      " ········\n"
     ]
    }
   ],
   "source": [
    "os.environ['HF_TOKEN'] = getpass.getpass()"
   ]
  },
  {
   "cell_type": "markdown",
   "id": "22e67238",
   "metadata": {},
   "source": [
    "## Create Tools\n",
    "The first tool that we need to create for this project is Tavily search engine tool"
   ]
  },
  {
   "cell_type": "code",
   "execution_count": 4,
   "id": "97995cec-e624-4c51-a921-7620108bf390",
   "metadata": {
    "metadata": {}
   },
   "outputs": [
    {
     "name": "stdout",
     "output_type": "stream",
     "text": [
      "[{'url': 'https://www.hindustantimes.com/cities/ahmedabad-weather-today-aqi-and-rain-forecast-updates-july-4-2024-101720056621176.html', 'content': 'July 6, 2024: 32.07 °C : Light rain: July 7, 2024: 33.54 °C : Light rain: July 8, 2024: 34.24 °C : Broken clouds: ... Ahmedabad weather update on July 04, 2024. Get World Cup ready with Crickit ...'}, {'url': 'https://www.weatherapi.com/', 'content': \"{'location': {'name': 'Ahmedabad', 'region': 'Gujarat', 'country': 'India', 'lat': 23.03, 'lon': 72.62, 'tz_id': 'Asia/Kolkata', 'localtime_epoch': 1720087651, 'localtime': '2024-07-04 15:37'}, 'current': {'last_updated_epoch': 1720087200, 'last_updated': '2024-07-04 15:30', 'temp_c': 33.0, 'temp_f': 91.4, 'is_day': 1, 'condition': {'text': 'Mist', 'icon': '//cdn.weatherapi.com/weather/64x64/day/143.png', 'code': 1030}, 'wind_mph': 5.6, 'wind_kph': 9.0, 'wind_degree': 260, 'wind_dir': 'W', 'pressure_mb': 999.0, 'pressure_in': 29.5, 'precip_mm': 0.0, 'precip_in': 0.0, 'humidity': 63, 'cloud': 75, 'feelslike_c': 36.1, 'feelslike_f': 97.0, 'windchill_c': 34.8, 'windchill_f': 94.7, 'heatindex_c': 39.9, 'heatindex_f': 103.7, 'dewpoint_c': 21.9, 'dewpoint_f': 71.4, 'vis_km': 5.0, 'vis_miles': 3.0, 'uv': 7.0, 'gust_mph': 14.5, 'gust_kph': 23.3}}\"}]\n"
     ]
    }
   ],
   "source": [
    "from langchain_community.tools.tavily_search import TavilySearchResults\n",
    "\n",
    "tavily = TavilySearchResults(max_results=2)\n",
    "search_results = tavily.invoke(\"What is the weather in Ahmedabad today?\")\n",
    "print(search_results)"
   ]
  },
  {
   "cell_type": "code",
   "execution_count": 5,
   "id": "def95202",
   "metadata": {
    "metadata": {}
   },
   "outputs": [],
   "source": [
    "tools = [tavily]"
   ]
  },
  {
   "cell_type": "markdown",
   "id": "5993fca0",
   "metadata": {},
   "source": [
    "## Use LLM\n",
    "In this project we are using MistralAI language model"
   ]
  },
  {
   "cell_type": "code",
   "execution_count": 6,
   "id": "af831a4e",
   "metadata": {
    "metadata": {}
   },
   "outputs": [],
   "source": [
    "from langchain_mistralai import ChatMistralAI\n",
    "\n",
    "model = ChatMistralAI(model=\"mistral-large-latest\")"
   ]
  },
  {
   "cell_type": "markdown",
   "id": "41815880",
   "metadata": {},
   "source": [
    "Model will not use the tools by itself.  \n",
    "We have to enable the model to use the tools by calling .bind_tools method of Model"
   ]
  },
  {
   "cell_type": "code",
   "execution_count": 7,
   "id": "2982749f",
   "metadata": {
    "metadata": {}
   },
   "outputs": [],
   "source": [
    "model_with_tools = model.bind_tools(tools)"
   ]
  },
  {
   "cell_type": "markdown",
   "id": "539db970",
   "metadata": {},
   "source": [
    "we can call the model now  \n",
    "Frist try with simple message\n",
    "The model will not call the tool as it will not be required because we are not sending any query"
   ]
  },
  {
   "cell_type": "code",
   "execution_count": 13,
   "id": "1e304d13",
   "metadata": {
    "metadata": {}
   },
   "outputs": [
    {
     "name": "stdout",
     "output_type": "stream",
     "text": [
      "Content String: Hello! How can I assist you today? If you have any questions or need information on current events, feel free to ask.\n",
      "Tool Calls: []\n"
     ]
    }
   ],
   "source": [
    "from langchain_core.messages import HumanMessage\n",
    "response = model_with_tools.invoke([\n",
    "    HumanMessage(content=\"Hi\")\n",
    "    ]\n",
    ")\n",
    "\n",
    "print(f\"Content String: {response.content}\")\n",
    "print(f\"Tool Calls: {response.tool_calls}\")"
   ]
  },
  {
   "cell_type": "code",
   "execution_count": 14,
   "id": "3d381e46",
   "metadata": {
    "metadata": {}
   },
   "outputs": [
    {
     "name": "stdout",
     "output_type": "stream",
     "text": [
      "ContentString: \n",
      "ToolCalls: [{'name': 'tavily_search_results_json', 'args': {'query': 'weather in SF'}, 'id': 'jUlqkiy24'}]\n"
     ]
    }
   ],
   "source": [
    "response = model_with_tools.invoke([HumanMessage(content=\"What's the weather in SF?\")])\n",
    "\n",
    "print(f\"ContentString: {response.content}\")\n",
    "print(f\"ToolCalls: {response.tool_calls}\")"
   ]
  },
  {
   "cell_type": "markdown",
   "id": "dba98598",
   "metadata": {},
   "source": [
    "In the above example you would notice that the model advises us to call a tool. This is a decision made by the model  \n",
    "It has not called the tool yet. Its asking us to make a tool call  \n",
    "In order to perform a tool call we need to build an agent"
   ]
  },
  {
   "cell_type": "code",
   "execution_count": null,
   "id": "e82878f8",
   "metadata": {
    "metadata": {}
   },
   "outputs": [],
   "source": [
    "# !pip install langgraph"
   ]
  },
  {
   "cell_type": "markdown",
   "id": "94671548",
   "metadata": {},
   "source": [
    "## Create Agent\n",
    "- Use LangGraph to create Agent\n",
    "- High level API\n",
    "- It also provides low level control\n",
    "- create agent and init it will llm model and tools. create_react_agent will call model.bind_tools under the hood"
   ]
  },
  {
   "cell_type": "code",
   "execution_count": 10,
   "id": "ac90c136",
   "metadata": {
    "metadata": {}
   },
   "outputs": [],
   "source": [
    "from langgraph.prebuilt import create_react_agent\n",
    "\n",
    "agent_executor = create_react_agent(model, tools)"
   ]
  },
  {
   "cell_type": "code",
   "execution_count": 18,
   "id": "4ad9e85f",
   "metadata": {
    "metadata": {}
   },
   "outputs": [
    {
     "data": {
      "text/plain": [
       "[HumanMessage(content='hi!', id='120c99f7-cdc5-4a0a-bf2c-4e2eb53e6734'),\n",
       " AIMessage(content=\"Hello! How can I assist you today? If you have any questions or need information on current events, feel free to ask. I'm here to help you find comprehensive, accurate, and trusted results.\", response_metadata={'token_usage': {'prompt_tokens': 109, 'total_tokens': 151, 'completion_tokens': 42}, 'model': 'mistral-large-latest', 'finish_reason': 'stop'}, id='run-a7632074-6c92-4b2d-ba2a-b309d3482bdc-0', usage_metadata={'input_tokens': 109, 'output_tokens': 42, 'total_tokens': 151})]"
      ]
     },
     "execution_count": 18,
     "metadata": {},
     "output_type": "execute_result"
    }
   ],
   "source": [
    "# testing the agent with simple query. Expected output is that it will not call the tool\n",
    "response = agent_executor.invoke({\"messages\": [HumanMessage(content=\"hi!\")]})\n",
    "\n",
    "response[\"messages\"]"
   ]
  },
  {
   "cell_type": "code",
   "execution_count": 19,
   "id": "94ce8cf1",
   "metadata": {
    "metadata": {}
   },
   "outputs": [
    {
     "data": {
      "text/plain": [
       "[HumanMessage(content='whats the weather in sf?', id='f5c95724-87c5-48ce-94a5-be067eeb75f5'),\n",
       " AIMessage(content='', additional_kwargs={'tool_calls': [{'id': '4qGAyjKZh', 'function': {'name': 'tavily_search_results_json', 'arguments': '{\"query\": \"weather in sf\"}'}}]}, response_metadata={'token_usage': {'prompt_tokens': 114, 'total_tokens': 144, 'completion_tokens': 30}, 'model': 'mistral-large-latest', 'finish_reason': 'tool_calls'}, id='run-45836a74-fa21-4cf9-bcda-b17944975abb-0', tool_calls=[{'name': 'tavily_search_results_json', 'args': {'query': 'weather in sf'}, 'id': '4qGAyjKZh'}], usage_metadata={'input_tokens': 114, 'output_tokens': 30, 'total_tokens': 144}),\n",
       " ToolMessage(content='[{\"url\": \"https://www.weatherapi.com/\", \"content\": \"{\\'location\\': {\\'name\\': \\'San Francisco\\', \\'region\\': \\'California\\', \\'country\\': \\'United States of America\\', \\'lat\\': 37.78, \\'lon\\': -122.42, \\'tz_id\\': \\'America/Los_Angeles\\', \\'localtime_epoch\\': 1720003064, \\'localtime\\': \\'2024-07-03 3:37\\'}, \\'current\\': {\\'last_updated_epoch\\': 1720002600, \\'last_updated\\': \\'2024-07-03 03:30\\', \\'temp_c\\': 20.6, \\'temp_f\\': 69.1, \\'is_day\\': 0, \\'condition\\': {\\'text\\': \\'Partly cloudy\\', \\'icon\\': \\'//cdn.weatherapi.com/weather/64x64/night/116.png\\', \\'code\\': 1003}, \\'wind_mph\\': 2.2, \\'wind_kph\\': 3.6, \\'wind_degree\\': 10, \\'wind_dir\\': \\'N\\', \\'pressure_mb\\': 1009.0, \\'pressure_in\\': 29.78, \\'precip_mm\\': 0.0, \\'precip_in\\': 0.0, \\'humidity\\': 65, \\'cloud\\': 50, \\'feelslike_c\\': 20.6, \\'feelslike_f\\': 69.1, \\'windchill_c\\': 15.0, \\'windchill_f\\': 58.9, \\'heatindex_c\\': 14.9, \\'heatindex_f\\': 58.9, \\'dewpoint_c\\': 9.7, \\'dewpoint_f\\': 49.4, \\'vis_km\\': 16.0, \\'vis_miles\\': 9.0, \\'uv\\': 1.0, \\'gust_mph\\': 8.9, \\'gust_kph\\': 14.4}}\"}, {\"url\": \"https://www.wunderground.com/hourly/us/ca/san-francisco/date/2024-07-02\", \"content\": \"Current Weather for Popular Cities . San Francisco, CA warning 85 \\\\u00b0 F Sunny; Manhattan, NY 80 \\\\u00b0 F Sunny; Schiller Park, IL (60176) 73 \\\\u00b0 F Cloudy; Boston, MA 79 \\\\u00b0 F Fair; Houston, TX warning 96 ...\"}]', name='tavily_search_results_json', id='b68b84d8-d6d4-46e3-985d-dd44dc0dcfae', tool_call_id='4qGAyjKZh'),\n",
       " AIMessage(content=\"The current weather in San Francisco is partly cloudy with a temperature of 69.1 degrees Fahrenheit and a wind speed of 2.2 miles per hour. The humidity is at 65%, and the visibility is 9 miles. The dew point is 49.4 degrees Fahrenheit, and the UV index is 1. The wind is coming from the north at 10 degrees. The last updated time for this information was 3:30 AM on July 3, 2024.\\nReference(s):\\nurl: <https://www.weatherapi.com/>\\ncontent: {'location': {'name': 'San Francisco', 'region': 'California', 'country': 'United States of America', 'lat': 37.78, 'lon': -122.42, 'tz_id': 'America/Los_Angeles', 'localtime_epoch': 1720003064, 'localtime': '2024-07-03 03:37'}, 'current': {'last_updated_epoch': 1720002600, 'last_updated': '2024-07-03 03:30', 'temp_c': 20.6, 'temp_f': 69.1, 'is_day': 0, 'condition': {'text': 'Partly cloudy', 'icon': '//cdn.weatherapi.com/weather/64x64/night/116.png', 'code': 1003}, 'wind_mph': 2.2, 'wind_kph': 3.6, 'wind_degree': 10, 'wind_dir': 'N', 'pressure_mb': 1009.0, 'pressure_in': 29.78, 'precip_mm': 0.0, 'precip_in': 0.0, 'humidity': 65, 'cloud': 50, 'feelslike_c': 20.6, 'feelslike_f': 69.1, 'windchill_c': 15.0, 'windchill_f': 58.9, 'heatindex_c': 14.9, 'heatindex_f': 58.9, 'dewpoint_c': 9.7, 'dewpoint_f': 49.4, 'vis_km': 16.0, 'vis_miles': 9.0, 'uv': 1.0, 'gust_mph': 8.9, 'gust_kph': 14.4}}\\n\\nAnother source shows that the current weather in San Francisco is sunny with a temperature of 85 degrees Fahrenheit.\\nReference(s):\\nurl: <https://www.wunderground.com/hourly/us/ca/san-francisco/date/2024-07-02>\\ncontent: Current Weather for Popular Cities . San Francisco, CA warning 85 ° F Sunny; Manhattan, NY 80 ° F Sunny; Schiller Park, IL (60176) 73 ° F Cloudy; Boston, MA 79 ° F Fair; Houston, TX warning 96 ...\", response_metadata={'token_usage': {'prompt_tokens': 792, 'total_tokens': 1563, 'completion_tokens': 771}, 'model': 'mistral-large-latest', 'finish_reason': 'stop'}, id='run-a32c096b-c88b-4bd6-8186-5fc040b54306-0', usage_metadata={'input_tokens': 792, 'output_tokens': 771, 'total_tokens': 1563})]"
      ]
     },
     "execution_count": 19,
     "metadata": {},
     "output_type": "execute_result"
    }
   ],
   "source": [
    "# in this example it should invoke the tool\n",
    "response = agent_executor.invoke(\n",
    "    {\"messages\": [HumanMessage(content=\"whats the weather in sf?\")]}\n",
    ")\n",
    "response[\"messages\"]"
   ]
  },
  {
   "cell_type": "markdown",
   "id": "2f74e07b",
   "metadata": {},
   "source": [
    "As we can see from the above example that the agent has called the tool as it was instructed by the Model  \n",
    "The output from the tool is fed back to the model which eventually gives output to Human"
   ]
  },
  {
   "cell_type": "markdown",
   "id": "0aa8e38a",
   "metadata": {},
   "source": [
    "### Streaming Messages\n",
    "- The agent performs multiple steps before it could generate the output\n",
    "- It calles the invoke method and hence again the stream method is available to streaming out the messages\n"
   ]
  },
  {
   "cell_type": "code",
   "execution_count": 20,
   "id": "7e78bc87",
   "metadata": {
    "metadata": {}
   },
   "outputs": [
    {
     "name": "stdout",
     "output_type": "stream",
     "text": [
      "{'agent': {'messages': [AIMessage(content='', additional_kwargs={'tool_calls': [{'id': 'JkS35u1Ud', 'function': {'name': 'tavily_search_results_json', 'arguments': '{\"query\": \"weather in sf\"}'}}]}, response_metadata={'token_usage': {'prompt_tokens': 114, 'total_tokens': 144, 'completion_tokens': 30}, 'model': 'mistral-large-latest', 'finish_reason': 'tool_calls'}, id='run-3f60f421-4e34-4269-8ca3-a763b647011a-0', tool_calls=[{'name': 'tavily_search_results_json', 'args': {'query': 'weather in sf'}, 'id': 'JkS35u1Ud'}], usage_metadata={'input_tokens': 114, 'output_tokens': 30, 'total_tokens': 144})]}}\n",
      "----\n",
      "{'tools': {'messages': [ToolMessage(content='[{\"url\": \"https://www.accuweather.com/en/us/san-francisco/94103/march-weather/347629\", \"content\": \"Get the monthly weather forecast for San Francisco, CA, including daily high/low, historical averages, to help you plan ahead.\"}, {\"url\": \"https://weatherspark.com/h/m/557/2024/3/Historical-Weather-in-March-2024-in-San-Francisco-California-United-States\", \"content\": \"San Francisco Temperature History March 2024. The daily range of reported temperatures (gray bars) and 24-hour highs (red ticks) and lows (blue ticks), placed over the daily average high (faint red line) and low (faint blue line) temperature, with 25th to 75th and 10th to 90th percentile bands.\"}]', name='tavily_search_results_json', tool_call_id='JkS35u1Ud')]}}\n",
      "----\n",
      "{'agent': {'messages': [AIMessage(content='According to the search results, the weather in San Francisco can be found on the following websites:\\n\\n* <https://www.accuweather.com/en/us/san-francisco/94103/march-weather/347629> - This website provides the monthly weather forecast for San Francisco, including daily high/low and historical averages.\\n* <https://weatherspark.com/h/m/557/2024/3/Historical-Weather-in-March-2024-in-San-Francisco-California-United-States> - This website provides the temperature history for San Francisco in March 2024, including daily highs and lows and percentile bands.\\n\\nI recommend checking these websites for the most accurate and up-to-date information.', response_metadata={'token_usage': {'prompt_tokens': 399, 'total_tokens': 592, 'completion_tokens': 193}, 'model': 'mistral-large-latest', 'finish_reason': 'stop'}, id='run-280a12f7-ecde-45b0-a183-1fe5e43ec1e8-0', usage_metadata={'input_tokens': 399, 'output_tokens': 193, 'total_tokens': 592})]}}\n",
      "----\n"
     ]
    }
   ],
   "source": [
    "for chunk in agent_executor.stream(\n",
    "    {\"messages\": [HumanMessage(content=\"whats the weather in sf?\")]}\n",
    "):\n",
    "    print(chunk)\n",
    "    print(\"----\")"
   ]
  },
  {
   "cell_type": "markdown",
   "id": "cb0dc772",
   "metadata": {},
   "source": [
    "### Streaming Tokens\n",
    "Even tokens could be streamed  \n",
    "for this the stream_events method could be invoked.  \n",
    "The method streams all events  "
   ]
  },
  {
   "cell_type": "code",
   "execution_count": 21,
   "id": "11132d19",
   "metadata": {
    "metadata": {}
   },
   "outputs": [
    {
     "name": "stderr",
     "output_type": "stream",
     "text": [
      "/home/ritesh/langchain_test/lib/python3.10/site-packages/langchain_core/_api/beta_decorator.py:87: LangChainBetaWarning: This API is in beta and may change in the future.\n",
      "  warn_beta(\n"
     ]
    },
    {
     "name": "stdout",
     "output_type": "stream",
     "text": [
      "--\n",
      "Starting tool: tavily_search_results_json with inputs: {'query': 'weather in sf'}\n",
      "Done tool: tavily_search_results_json\n",
      "Tool output was: [{'url': 'https://weatherspark.com/h/m/557/2024/3/Historical-Weather-in-March-2024-in-San-Francisco-California-United-States', 'content': 'San Francisco Temperature History March 2024. The daily range of reported temperatures (gray bars) and 24-hour highs (red ticks) and lows (blue ticks), placed over the daily average high (faint red line) and low (faint blue line) temperature, with 25th to 75th and 10th to 90th percentile bands.'}, {'url': 'https://www.weatherapi.com/', 'content': \"{'location': {'name': 'San Francisco', 'region': 'California', 'country': 'United States of America', 'lat': 37.78, 'lon': -122.42, 'tz_id': 'America/Los_Angeles', 'localtime_epoch': 1720004207, 'localtime': '2024-07-03 3:56'}, 'current': {'last_updated_epoch': 1720003500, 'last_updated': '2024-07-03 03:45', 'temp_c': 20.6, 'temp_f': 69.1, 'is_day': 0, 'condition': {'text': 'Partly cloudy', 'icon': '//cdn.weatherapi.com/weather/64x64/night/116.png', 'code': 1003}, 'wind_mph': 2.2, 'wind_kph': 3.6, 'wind_degree': 10, 'wind_dir': 'N', 'pressure_mb': 1009.0, 'pressure_in': 29.78, 'precip_mm': 0.0, 'precip_in': 0.0, 'humidity': 65, 'cloud': 50, 'feelslike_c': 20.6, 'feelslike_f': 69.1, 'windchill_c': 15.0, 'windchill_f': 58.9, 'heatindex_c': 14.9, 'heatindex_f': 58.9, 'dewpoint_c': 9.7, 'dewpoint_f': 49.4, 'vis_km': 16.0, 'vis_miles': 9.0, 'uv': 1.0, 'gust_mph': 8.9, 'gust_kph': 14.4}}\"}]\n",
      "--\n",
      "According| to| the| search| results|,| the| current| weather| in| San| Francisco| is| partly| cloud|y| with| a| temperature| of| |2|0|.|6| degrees| C|els|ius| (|6|9|.|1| degrees| F|ahren|heit|).| The| wind| speed| is| |2|.|2| miles| per| hour| (|3|.|6| kilom|eters| per| hour|)| coming| from| the| north|.| The| hum|idity| is| at| |6|5|%| and| the| visibility| is| |1|6| kilom|eters| (|9| miles|).| Additionally|,| I| found| a| historical| weather| report| for| San| Francisco| in| March| |2|0|2|4| if| you|'|re| interested| in| that|.|"
     ]
    }
   ],
   "source": [
    "async for event in agent_executor.astream_events(\n",
    "    {\"messages\": [HumanMessage(content=\"whats the weather in sf?\")]}, version=\"v1\"\n",
    "):\n",
    "    kind = event[\"event\"]\n",
    "    if kind == \"on_chain_start\":\n",
    "        if (\n",
    "            event[\"name\"] == \"Agent\"\n",
    "        ):  # Was assigned when creating the agent with `.with_config({\"run_name\": \"Agent\"})`\n",
    "            print(\n",
    "                f\"Starting agent: {event['name']} with input: {event['data'].get('input')}\"\n",
    "            )\n",
    "    elif kind == \"on_chain_end\":\n",
    "        if (\n",
    "            event[\"name\"] == \"Agent\"\n",
    "        ):  # Was assigned when creating the agent with `.with_config({\"run_name\": \"Agent\"})`\n",
    "            print()\n",
    "            print(\"--\")\n",
    "            print(\n",
    "                f\"Done agent: {event['name']} with output: {event['data'].get('output')['output']}\"\n",
    "            )\n",
    "    if kind == \"on_chat_model_stream\":\n",
    "        content = event[\"data\"][\"chunk\"].content\n",
    "        if content:\n",
    "            # Empty content in the context of OpenAI means\n",
    "            # that the model is asking for a tool to be invoked.\n",
    "            # So we only print non-empty content\n",
    "            print(content, end=\"|\")\n",
    "    elif kind == \"on_tool_start\":\n",
    "        print(\"--\")\n",
    "        print(\n",
    "            f\"Starting tool: {event['name']} with inputs: {event['data'].get('input')}\"\n",
    "        )\n",
    "    elif kind == \"on_tool_end\":\n",
    "        print(f\"Done tool: {event['name']}\")\n",
    "        print(f\"Tool output was: {event['data'].get('output')}\")\n",
    "        print(\"--\")"
   ]
  },
  {
   "cell_type": "markdown",
   "id": "eb70d17a",
   "metadata": {},
   "source": [
    "## Adding Memory\n",
    "- The agent is stateless. It does not remember history\n",
    "- We nned to pass a checkpointer and thread_id to give it memory specific to a thread"
   ]
  },
  {
   "cell_type": "code",
   "execution_count": 8,
   "id": "98c5a79b",
   "metadata": {
    "metadata": {}
   },
   "outputs": [],
   "source": [
    "from langgraph.checkpoint.sqlite import SqliteSaver\n",
    "\n",
    "memory = SqliteSaver.from_conn_string(\":memory:\")    # in memeory storage"
   ]
  },
  {
   "cell_type": "code",
   "execution_count": 11,
   "id": "5562a57b",
   "metadata": {
    "metadata": {}
   },
   "outputs": [],
   "source": [
    "#give a checkpointer = memory to the agent\n",
    "agent_executor = create_react_agent(model, tools, checkpointer=memory)\n",
    "\n",
    "config = {\"configurable\": {\"thread_id\": \"abc123\"}}"
   ]
  },
  {
   "cell_type": "code",
   "execution_count": 13,
   "id": "472ca9f6",
   "metadata": {
    "metadata": {}
   },
   "outputs": [
    {
     "name": "stdout",
     "output_type": "stream",
     "text": [
      "{'agent': {'messages': [AIMessage(content='Hello Karishma! How can I assist you today?', response_metadata={'token_usage': {'prompt_tokens': 113, 'total_tokens': 125, 'completion_tokens': 12}, 'model': 'mistral-large-latest', 'finish_reason': 'stop'}, id='run-006e49ac-af44-44e8-bbad-a6bc5c65a5a2-0', usage_metadata={'input_tokens': 113, 'output_tokens': 12, 'total_tokens': 125})]}}\n",
      "----\n"
     ]
    }
   ],
   "source": [
    "#stream messages\n",
    "from langchain_core.messages import HumanMessage\n",
    "for chunk in agent_executor.stream(\n",
    "    {\"messages\": [HumanMessage(content=\"hi im Karishma!\")]}, config\n",
    "):\n",
    "    print(chunk)\n",
    "    print(\"----\")"
   ]
  },
  {
   "cell_type": "code",
   "execution_count": 14,
   "id": "d21678e1",
   "metadata": {
    "metadata": {}
   },
   "outputs": [
    {
     "name": "stdout",
     "output_type": "stream",
     "text": [
      "{'agent': {'messages': [AIMessage(content='Based on our conversation, your name is Karishma.', response_metadata={'token_usage': {'prompt_tokens': 133, 'total_tokens': 145, 'completion_tokens': 12}, 'model': 'mistral-large-latest', 'finish_reason': 'stop'}, id='run-b34ddb4c-7dcc-4faf-9c9c-6330b68bafda-0', usage_metadata={'input_tokens': 133, 'output_tokens': 12, 'total_tokens': 145})]}}\n",
      "----\n"
     ]
    }
   ],
   "source": [
    "# now the agent will remember the previous conversation\n",
    "for chunk in agent_executor.stream(\n",
    "    {\"messages\": [HumanMessage(content=\"whats my name?\")]}, config\n",
    "):\n",
    "    print(chunk)\n",
    "    print(\"----\")"
   ]
  },
  {
   "cell_type": "code",
   "execution_count": 15,
   "id": "832c40d6",
   "metadata": {
    "metadata": {}
   },
   "outputs": [
    {
     "name": "stdout",
     "output_type": "stream",
     "text": [
      "{'agent': {'messages': [AIMessage(content='', additional_kwargs={'tool_calls': [{'id': '1wrBxajQf', 'function': {'name': 'tavily_search_results_json', 'arguments': '{\"query\": \"HCLTECH stock symbol\"}'}}]}, response_metadata={'token_usage': {'prompt_tokens': 164, 'total_tokens': 196, 'completion_tokens': 32}, 'model': 'mistral-large-latest', 'finish_reason': 'tool_calls'}, id='run-826a5671-184d-40f0-9d50-05ce708cf60b-0', tool_calls=[{'name': 'tavily_search_results_json', 'args': {'query': 'HCLTECH stock symbol'}, 'id': '1wrBxajQf'}], usage_metadata={'input_tokens': 164, 'output_tokens': 32, 'total_tokens': 196})]}}\n",
      "----\n",
      "{'tools': {'messages': [ToolMessage(content='[{\"url\": \"https://finance.yahoo.com/quote/HCLTECH.NS/\", \"content\": \"Find the latest HCL Technologies Limited (HCLTECH.NS) stock quote, history, news and other vital information to help you with your stock trading and investing.\"}, {\"url\": \"https://www.google.com/finance/quote/HCLTECH:NSE\", \"content\": \"Get the latest HCL Technologies Ltd (HCLTECH) real-time quote, historical performance, charts, and other financial information to help you make more informed trading and investment decisions.\"}]', name='tavily_search_results_json', tool_call_id='1wrBxajQf')]}}\n",
      "----\n",
      "{'agent': {'messages': [AIMessage(content='Here are some recent news articles about Hcl Technologies stock symbol HCLTECH:\\n\\n1. [Find the latest HCL Technologies Limited (HCLTECH.NS) stock quote, history, news and other vital information to help you with your stock trading and investing.](https://finance.yahoo.com/quote/HCLTECH.NS/)\\n2. [Get the latest HCL Technologies Ltd (HCLTECH) real-time quote, historical performance, charts, and other financial information to help you make more informed trading and investment decisions.](https://www.google.com/finance/quote/HCLTECH:NSE)\\n\\nHope this helps! Let me know if you have any other questions.', response_metadata={'token_usage': {'prompt_tokens': 354, 'total_tokens': 515, 'completion_tokens': 161}, 'model': 'mistral-large-latest', 'finish_reason': 'stop'}, id='run-06d34535-236c-488d-a05f-8fc6b46513b3-0', usage_metadata={'input_tokens': 354, 'output_tokens': 161, 'total_tokens': 515})]}}\n",
      "----\n"
     ]
    }
   ],
   "source": [
    "# now we can make it call a tool\n",
    "for chunk in agent_executor.stream(\n",
    "    {\"messages\": [HumanMessage(content=\"What is the latest news about Hcl Technologies stock symbol HCLTECH\")]}, config\n",
    "):\n",
    "    print(chunk)\n",
    "    print(\"----\")"
   ]
  },
  {
   "cell_type": "code",
   "execution_count": 18,
   "id": "d63bb2a4",
   "metadata": {},
   "outputs": [
    {
     "name": "stdout",
     "output_type": "stream",
     "text": [
      "{'agent': {'messages': [AIMessage(content='', additional_kwargs={'tool_calls': [{'id': 'pt7w8BHXl', 'function': {'name': 'tavily_search_results_json', 'arguments': '{\"query\": \"latest news of HCLTECH and current stock price\"}'}}]}, response_metadata={'token_usage': {'prompt_tokens': 1866, 'total_tokens': 1903, 'completion_tokens': 37}, 'model': 'mistral-large-latest', 'finish_reason': 'tool_calls'}, id='run-410d76df-1114-4d3c-b761-78fed2acbd36-0', tool_calls=[{'name': 'tavily_search_results_json', 'args': {'query': 'latest news of HCLTECH and current stock price'}, 'id': 'pt7w8BHXl'}], usage_metadata={'input_tokens': 1866, 'output_tokens': 37, 'total_tokens': 1903})]}}\n",
      "----\n",
      "{'tools': {'messages': [ToolMessage(content='[{\"url\": \"https://www.google.com/finance/quote/HCLTECH:NSE\", \"content\": \"Get the latest HCL Technologies Ltd (HCLTECH) real-time quote, historical performance, charts, and other financial information to help you make more informed trading and investment decisions.\"}, {\"url\": \"https://economictimes.indiatimes.com/hcl-technologies-ltd/stocks/companyid-4291.cms\", \"content\": \"HCL Tech Share Price Today (01 Jul, 2024): HCL Tech Stock Price (\\\\u20b9 1468.85) Live NSE/BSE updates on The Economic Times. Check out why HCL Tech share price is up today. Get all details on HCL Technologies shares news and analysis, Forecasts, Dividend, balance sheet, profit & loss, Quarterly results, annual report information, and more\"}]', name='tavily_search_results_json', tool_call_id='pt7w8BHXl')]}}\n",
      "----\n",
      "{'agent': {'messages': [AIMessage(content='Here is a summary of the latest news and current stock price of HCLTECH:\\n\\n1. The current stock price of HCLTECH is Rs 1,468.85 on the NSE.\\n2. According to the Economic Times, the HCL Tech share price is up today (July 1, 2024).\\n3. The reason for the rise in the share price is not mentioned in the search results.\\n4. For more information about the stock, including historical performance, charts, news, and analysis, you can refer to the following links:\\n\\t* [HCL Technologies Ltd (HCLTECH) real-time quote, historical performance, charts, and other financial information](https://www.google.com/finance/quote/HCLTECH:NSE)\\n\\t* [HCL Tech Share Price Today (01 Jul, 2024): HCL Tech Stock Price (₹ 1468.85) Live NSE/BSE updates on The Economic Times](https://economictimes.indiatimes.com/hcl-technologies-ltd/stocks/companyid-4291.cms)\\n\\nAs a reminder, I am not a financial advisor and cannot provide personalized financial advice. It is recommended to consult with a financial advisor and conduct further research before making any investment decisions.', response_metadata={'token_usage': {'prompt_tokens': 2135, 'total_tokens': 2437, 'completion_tokens': 302}, 'model': 'mistral-large-latest', 'finish_reason': 'stop'}, id='run-98f7e2cd-bf8c-4a44-b5fb-95718c7ce23f-0', usage_metadata={'input_tokens': 2135, 'output_tokens': 302, 'total_tokens': 2437})]}}\n",
      "----\n"
     ]
    }
   ],
   "source": [
    "# now we can make it call a tool\n",
    "for chunk in agent_executor.stream(\n",
    "    {\"messages\": [HumanMessage(content=\"Find the latest news and current stock price of HCLTECH. Summarize the same\")]}, config\n",
    "):\n",
    "    print(chunk)\n",
    "    print(\"----\")"
   ]
  },
  {
   "cell_type": "code",
   "execution_count": null,
   "id": "bbf60e8c",
   "metadata": {},
   "outputs": [],
   "source": []
  }
 ],
 "metadata": {
  "kernelspec": {
   "display_name": "langchain_test",
   "language": "python",
   "name": "python3"
  },
  "language_info": {
   "codemirror_mode": {
    "name": "ipython",
    "version": 3
   },
   "file_extension": ".py",
   "mimetype": "text/x-python",
   "name": "python",
   "nbconvert_exporter": "python",
   "pygments_lexer": "ipython3",
   "version": "3.10.12"
  }
 },
 "nbformat": 4,
 "nbformat_minor": 5
}
