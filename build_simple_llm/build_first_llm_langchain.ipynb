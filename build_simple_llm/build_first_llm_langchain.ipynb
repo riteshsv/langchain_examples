{
 "cells": [
  {
   "cell_type": "code",
   "execution_count": 1,
   "id": "43573ce8-b3a2-471a-a324-0ecbd4a04266",
   "metadata": {},
   "outputs": [],
   "source": [
    "import getpass\n",
    "import os"
   ]
  },
  {
   "cell_type": "code",
   "execution_count": 2,
   "id": "9cb24670-0b97-4a83-b3af-d29a960b0fae",
   "metadata": {},
   "outputs": [
    {
     "name": "stdin",
     "output_type": "stream",
     "text": [
      " ········\n"
     ]
    }
   ],
   "source": [
    "os.environ[\"MISTRAL_API_KEY\"] = getpass.getpass()\n",
    "\n",
    "from langchain_mistralai import ChatMistralAI\n",
    "\n",
    "model = ChatMistralAI(model=\"mistral-large-latest\")"
   ]
  },
  {
   "cell_type": "code",
   "execution_count": 22,
   "id": "8059a24d-8ad2-435e-beff-31de4f061942",
   "metadata": {},
   "outputs": [
    {
     "name": "stdin",
     "output_type": "stream",
     "text": [
      " ········\n"
     ]
    }
   ],
   "source": [
    "os.environ[\"LANGCHAIN_TRACING_V2\"] = \"true\"\n",
    "os.environ[\"LANGCHAIN_API_KEY\"] = getpass.getpass()"
   ]
  },
  {
   "cell_type": "code",
   "execution_count": 32,
   "id": "6af687bd-c847-4bc0-b1f8-8d16441897ff",
   "metadata": {},
   "outputs": [],
   "source": [
    "os.environ[\"LANGCHAIN_PROJECT\"] = \"pr-enchanted-afoul-34\"\n",
    "os.environ[\"LANGCHAIN_ENDPOINT\"]=\"https://api.smith.langchain.com\""
   ]
  },
  {
   "cell_type": "code",
   "execution_count": 4,
   "id": "69c96c91-9580-422e-8a2c-0093d9e91b0d",
   "metadata": {},
   "outputs": [],
   "source": [
    "from langchain_core.messages import HumanMessage, SystemMessage\n",
    "\n",
    "messages = [\n",
    "    SystemMessage(content=\"Translate the following from English into Italian\"),\n",
    "    HumanMessage(content=\"hi!\"),\n",
    "]\n",
    "\n",
    "result = model.invoke(messages)"
   ]
  },
  {
   "cell_type": "code",
   "execution_count": 6,
   "id": "7e5e66c1-f95e-4984-ac0a-55a706b9b312",
   "metadata": {},
   "outputs": [
    {
     "data": {
      "text/plain": [
       "'Hello! Translates to \"Ciao!\" in Italian. So, \"Hi!\" would be \"Ciao!\" in Italian.'"
      ]
     },
     "execution_count": 6,
     "metadata": {},
     "output_type": "execute_result"
    }
   ],
   "source": [
    "from langchain_core.output_parsers import StrOutputParser\n",
    "parser = StrOutputParser()\n",
    "parser.invoke(result)"
   ]
  },
  {
   "cell_type": "code",
   "execution_count": 7,
   "id": "23b9c7c9-57ab-4616-a6e4-5dd8a036f150",
   "metadata": {},
   "outputs": [
    {
     "data": {
      "text/plain": [
       "'Hello! In Italian, this is typically translated as \"Ciao!\" Please note that Italian, like many languages, has formal and informal ways of addressing people. \"Ciao\" is an informal greeting, suitable for friends and family, or in casual settings. If you\\'re addressing someone in a formal context or someone you don\\'t know well, \"Salve\" or \"Buongiorno\" (Good day) might be more appropriate.'"
      ]
     },
     "execution_count": 7,
     "metadata": {},
     "output_type": "execute_result"
    }
   ],
   "source": [
    "chain = model | parser\n",
    "chain.invoke(messages)"
   ]
  },
  {
   "cell_type": "markdown",
   "id": "4b2192f3-554b-42e2-b02b-ef05cf0dab05",
   "metadata": {},
   "source": [
    "## Use Prompt Templates\n",
    "User input is transformed into a list of system message and user input. Some times user input is also formatted. \n",
    "This transformation process is assisted by Langchains Prompt templates"
   ]
  },
  {
   "cell_type": "code",
   "execution_count": 8,
   "id": "9de9f854-eed1-43eb-bb97-c2be11e8bc5b",
   "metadata": {},
   "outputs": [],
   "source": [
    "from langchain.prompts import ChatPromptTemplate"
   ]
  },
  {
   "cell_type": "code",
   "execution_count": 9,
   "id": "ae45e917-7e6a-4e93-991a-271b0e4bcc34",
   "metadata": {},
   "outputs": [],
   "source": [
    "system_template = \"Translate the following into {language}\""
   ]
  },
  {
   "cell_type": "code",
   "execution_count": 13,
   "id": "63742b43-889d-4172-a94e-0fb902ef971d",
   "metadata": {},
   "outputs": [],
   "source": [
    "prompt_template = ChatPromptTemplate.from_messages(\n",
    "    [(\"system\",system_template),\n",
    "     (\"user\", \"{text}\")\n",
    "    ]\n",
    ")"
   ]
  },
  {
   "cell_type": "code",
   "execution_count": 15,
   "id": "f4b6d8b1-c2e7-4ee9-9ef6-abb27021e342",
   "metadata": {},
   "outputs": [],
   "source": [
    "# prompt_tempalate takes dictionary as input where \"language\" and \"text\" are the keys. \n",
    "result = prompt_template.invoke({\"language\":\"italian\", \"text\":\"Hi\"})"
   ]
  },
  {
   "cell_type": "code",
   "execution_count": 16,
   "id": "44d339a8-29ea-4c0b-a7b2-fdf9e1e04220",
   "metadata": {},
   "outputs": [
    {
     "data": {
      "text/plain": [
       "ChatPromptValue(messages=[SystemMessage(content='Translate the following into italian'), HumanMessage(content='Hi')])"
      ]
     },
     "execution_count": 16,
     "metadata": {},
     "output_type": "execute_result"
    }
   ],
   "source": [
    "result"
   ]
  },
  {
   "cell_type": "code",
   "execution_count": 17,
   "id": "619fe761-b203-4a7b-b821-872b07c144e7",
   "metadata": {},
   "outputs": [
    {
     "data": {
      "text/plain": [
       "[SystemMessage(content='Translate the following into italian'),\n",
       " HumanMessage(content='Hi')]"
      ]
     },
     "execution_count": 17,
     "metadata": {},
     "output_type": "execute_result"
    }
   ],
   "source": [
    "result.to_messages()"
   ]
  },
  {
   "cell_type": "code",
   "execution_count": 33,
   "id": "ad1b9a70-4871-41ed-b7e7-2bdb1373d939",
   "metadata": {},
   "outputs": [],
   "source": [
    "#chaining togather the components with LECL (Langchain Expression Language)\n",
    "chain = prompt_template | model | parser\n"
   ]
  },
  {
   "cell_type": "code",
   "execution_count": 34,
   "id": "9e46f60d-eccb-4f4a-854d-8049222c179a",
   "metadata": {},
   "outputs": [],
   "source": [
    "result = chain.invoke({\"language\":\"italian\", \"text\":\"Hi\"})"
   ]
  },
  {
   "cell_type": "code",
   "execution_count": 31,
   "id": "b9a7511c-df21-444c-9c42-f739dca2cad8",
   "metadata": {},
   "outputs": [
    {
     "data": {
      "text/plain": [
       "'Hello! The translation of \"Hi\" into Italian is \"Ciao\".'"
      ]
     },
     "execution_count": 31,
     "metadata": {},
     "output_type": "execute_result"
    }
   ],
   "source": [
    "result"
   ]
  },
  {
   "cell_type": "markdown",
   "id": "fb0cd584-8d89-41ef-a8dd-082af45cbd52",
   "metadata": {},
   "source": [
    "## Serving with LangServe\n",
    "Now that we've built an application, we need to serve it. That's where LangServe comes in. LangServe helps developers deploy LangChain chains as a REST API. You do not need to use LangServe to use LangChain, but in this guide we'll show how you can deploy your app with LangServe.\n",
    "\n",
    "While the first part of this guide was intended to be run in a Jupyter Notebook or script, we will now move out of that. We will be creating a Python file and then interacting with it from the command line.\n",
    "\n",
    "Install with:\n",
    "\n",
    "```python\n",
    "pip install \"langserve[all]\"\n",
    "```\n",
    "### Server\n",
    "To create a server for our application we'll make a serve.py file. This will contain our logic for serving our application. It consists of three things:\n",
    "\n",
    "The definition of our chain that we just built above\n",
    "Our FastAPI app\n",
    "A definition of a route from which to serve the chain, which is done with langserve.add_routes\n",
    "```python\n",
    "#!/usr/bin/env python\n",
    "from typing import List\n",
    "\n",
    "from fastapi import FastAPI\n",
    "from langchain_core.prompts import ChatPromptTemplate\n",
    "from langchain_core.output_parsers import StrOutputParser\n",
    "from langchain_openai import ChatOpenAI\n",
    "from langserve import add_routes\n",
    "\n",
    "# 1. Create prompt template\n",
    "system_template = \"Translate the following into {language}:\"\n",
    "prompt_template = ChatPromptTemplate.from_messages([\n",
    "    ('system', system_template),\n",
    "    ('user', '{text}')\n",
    "])\n",
    "\n",
    "# 2. Create model\n",
    "model = ChatOpenAI()\n",
    "\n",
    "# 3. Create parser\n",
    "parser = StrOutputParser()\n",
    "\n",
    "# 4. Create chain\n",
    "chain = prompt_template | model | parser\n",
    "\n",
    "\n",
    "# 4. App definition\n",
    "app = FastAPI(\n",
    "  title=\"LangChain Server\",\n",
    "  version=\"1.0\",\n",
    "  description=\"A simple API server using LangChain's Runnable interfaces\",\n",
    ")\n",
    "\n",
    "# 5. Adding chain route\n",
    "\n",
    "add_routes(\n",
    "    app,\n",
    "    chain,\n",
    "    path=\"/chain\",\n",
    ")\n",
    "\n",
    "if __name__ == \"__main__\":\n",
    "    import uvicorn\n",
    "\n",
    "    uvicorn.run(app, host=\"localhost\", port=8000)\n",
    "```\n",
    "API Reference:ChatPromptTemplate | StrOutputParser | ChatOpenAI\n",
    "And that's it! If we execute this file:\n",
    "```python\n",
    "python serve.py\n",
    "```\n",
    "we should see our chain being served at http://localhost:8000.\n",
    "\n",
    "### Playground\n",
    "Every LangServe service comes with a simple built-in UI for configuring and invoking the application with streaming output and visibility into intermediate steps. Head to http://localhost:8000/chain/playground/ to try it out! Pass in the same inputs as before - {\"language\": \"italian\", \"text\": \"hi\"} - and it should respond same as before.\n",
    "\n",
    "### Client\n",
    "Now let's set up a client for programmatically interacting with our service. We can easily do this with the [langserve.RemoteRunnable](/docs/langserve/#client). Using this, we can interact with the served chain as if it were running client-side.\n",
    "\n",
    "```python\n",
    "from langserve import RemoteRunnable\n",
    "\n",
    "remote_chain = RemoteRunnable(\"http://localhost:8000/chain/\")\n",
    "remote_chain.invoke({\"language\": \"italian\", \"text\": \"hi\"})\n",
    "```\n",
    "\n",
    "'Ciao'\n",
    "\n",
    "To learn more about the many other features of LangServe head here.\n",
    "\n",
    "### Conclusion\n",
    "That's it! In this tutorial you've learned how to create your first simple LLM application. You've learned how to work with language models, how to parse their outputs, how to create a prompt template, chaining them with LCEL, how to get great observability into chains you create with LangSmith, and how to deploy them with LangServe.\n",
    "\n",
    "This just scratches the surface of what you will want to learn to become a proficient AI Engineer. Luckily - we've got a lot of other resources!\n",
    "\n",
    "For further reading on the core concepts of LangChain, we've got detailed Conceptual Guides.\n",
    "\n",
    "If you have more specific questions on these concepts, check out the following sections of the how-to guides:"
   ]
  },
  {
   "cell_type": "code",
   "execution_count": null,
   "id": "106b896d-87e5-4862-a4bb-48ad561cbe2a",
   "metadata": {},
   "outputs": [],
   "source": []
  }
 ],
 "metadata": {
  "kernelspec": {
   "display_name": "langchain",
   "language": "python",
   "name": "langchain"
  },
  "language_info": {
   "codemirror_mode": {
    "name": "ipython",
    "version": 3
   },
   "file_extension": ".py",
   "mimetype": "text/x-python",
   "name": "python",
   "nbconvert_exporter": "python",
   "pygments_lexer": "ipython3",
   "version": "3.10.12"
  }
 },
 "nbformat": 4,
 "nbformat_minor": 5
}
